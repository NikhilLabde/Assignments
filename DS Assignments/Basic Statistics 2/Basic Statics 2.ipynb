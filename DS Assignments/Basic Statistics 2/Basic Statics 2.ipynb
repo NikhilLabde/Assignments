{
 "cells": [
  {
   "cell_type": "code",
   "execution_count": 1,
   "id": "dc8908cf",
   "metadata": {},
   "outputs": [
    {
     "name": "stdout",
     "output_type": "stream",
     "text": [
      "Using Sample Standard Deviation: 99% CI is approximately [1.090, 1.387] million characters.\n",
      "Using Known Population Standard Deviation: 99% CI is approximately [1.106, 1.372] million characters.\n"
     ]
    }
   ],
   "source": [
    "import numpy as np\n",
    "import scipy.stats as stats\n",
    "\n",
    "# Data: Durability of print-heads in millions of characters\n",
    "durability = [1.13, 1.55, 1.43, 0.92, 1.25, 1.36, 1.32, 0.85, 1.07, 1.48, 1.20, 1.33, 1.18, 1.22, 1.29]\n",
    "\n",
    "# Calculate the sample mean\n",
    "sample_mean = np.mean(durability)\n",
    "\n",
    "# Calculate the sample standard deviation\n",
    "sample_std = np.std(durability, ddof=1)\n",
    "\n",
    "# Sample size\n",
    "n = len(durability)\n",
    "\n",
    "# Task (a): 99% Confidence Interval using sample standard deviation\n",
    "# Determine the t-value for 99% confidence level with n-1 degrees of freedom\n",
    "t_value = stats.t.ppf(0.995, df=n-1)\n",
    "\n",
    "# Calculate the margin of error\n",
    "margin_of_error_t = t_value * (sample_std / np.sqrt(n))\n",
    "\n",
    "# Calculate the confidence interval\n",
    "ci_lower_t = sample_mean - margin_of_error_t\n",
    "ci_upper_t = sample_mean + margin_of_error_t\n",
    "\n",
    "# Task (b): 99% Confidence Interval using known population standard deviation\n",
    "# Known population standard deviation\n",
    "pop_std = 0.2\n",
    "\n",
    "# Determine the z-value for 99% confidence level\n",
    "z_value = stats.norm.ppf(0.995)\n",
    "\n",
    "# Calculate the margin of error\n",
    "margin_of_error_z = z_value * (pop_std / np.sqrt(n))\n",
    "\n",
    "# Calculate the confidence interval\n",
    "ci_lower_z = sample_mean - margin_of_error_z\n",
    "ci_upper_z = sample_mean + margin_of_error_z\n",
    "\n",
    "# Print the results\n",
    "print(f\"Using Sample Standard Deviation: 99% CI is approximately [{ci_lower_t:.3f}, {ci_upper_t:.3f}] million characters.\")\n",
    "print(f\"Using Known Population Standard Deviation: 99% CI is approximately [{ci_lower_z:.3f}, {ci_upper_z:.3f}] million characters.\")\n"
   ]
  },
  {
   "cell_type": "code",
   "execution_count": null,
   "id": "962f5fd1",
   "metadata": {},
   "outputs": [],
   "source": []
  }
 ],
 "metadata": {
  "kernelspec": {
   "display_name": "Python 3 (ipykernel)",
   "language": "python",
   "name": "python3"
  },
  "language_info": {
   "codemirror_mode": {
    "name": "ipython",
    "version": 3
   },
   "file_extension": ".py",
   "mimetype": "text/x-python",
   "name": "python",
   "nbconvert_exporter": "python",
   "pygments_lexer": "ipython3",
   "version": "3.11.5"
  }
 },
 "nbformat": 4,
 "nbformat_minor": 5
}
