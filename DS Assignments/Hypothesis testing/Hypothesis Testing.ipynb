{
 "cells": [
  {
   "cell_type": "code",
   "execution_count": 1,
   "id": "a0fbc8d8",
   "metadata": {},
   "outputs": [
    {
     "name": "stdout",
     "output_type": "stream",
     "text": [
      "Sample Mean (x̄): 3050\n",
      "Theoretical Mean (μ): 4000\n",
      "Standard Deviation (σ): 125\n",
      "Sample Size (n): 25\n",
      "Test Statistic (t): -38.0\n",
      "Critical Value (z): 1.6448536269514722\n",
      "Fail to reject the null hypothesis. There is not enough evidence to support the restaurant owners' claim that the weekly operating costs are higher than the model suggests.\n"
     ]
    }
   ],
   "source": [
    "import math\n",
    "import scipy.stats as stats\n",
    "\n",
    "# Given data\n",
    "sample_mean = 3050\n",
    "mu = 1000 + 5 * 600  # Theoretical mean weekly cost\n",
    "sigma = 5 * 25  # Standard deviation of the weekly operating cost\n",
    "n = 25  # Sample size\n",
    "alpha = 0.05  # Significance level\n",
    "\n",
    "# Calculate the test statistic\n",
    "t_statistic = (sample_mean - mu) / (sigma / math.sqrt(n))\n",
    "\n",
    "# Determine the critical value from the standard normal distribution\n",
    "critical_value = stats.norm.ppf(1 - alpha)\n",
    "\n",
    "# Print the results\n",
    "print(f\"Sample Mean (x̄): {sample_mean}\")\n",
    "print(f\"Theoretical Mean (μ): {mu}\")\n",
    "print(f\"Standard Deviation (σ): {sigma}\")\n",
    "print(f\"Sample Size (n): {n}\")\n",
    "print(f\"Test Statistic (t): {t_statistic}\")\n",
    "print(f\"Critical Value (z): {critical_value}\")\n",
    "\n",
    "# Make a decision\n",
    "if t_statistic > critical_value:\n",
    "    print(\"Reject the null hypothesis. There is strong evidence to support the restaurant owners' claim that the weekly operating costs are higher than the model suggests.\")\n",
    "else:\n",
    "    print(\"Fail to reject the null hypothesis. There is not enough evidence to support the restaurant owners' claim that the weekly operating costs are higher than the model suggests.\")\n"
   ]
  },
  {
   "cell_type": "code",
   "execution_count": null,
   "id": "c4e2f143",
   "metadata": {},
   "outputs": [],
   "source": []
  }
 ],
 "metadata": {
  "kernelspec": {
   "display_name": "Python 3 (ipykernel)",
   "language": "python",
   "name": "python3"
  },
  "language_info": {
   "codemirror_mode": {
    "name": "ipython",
    "version": 3
   },
   "file_extension": ".py",
   "mimetype": "text/x-python",
   "name": "python",
   "nbconvert_exporter": "python",
   "pygments_lexer": "ipython3",
   "version": "3.11.5"
  }
 },
 "nbformat": 4,
 "nbformat_minor": 5
}
