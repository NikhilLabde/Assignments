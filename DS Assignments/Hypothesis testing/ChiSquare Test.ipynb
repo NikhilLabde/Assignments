{
 "cells": [
  {
   "cell_type": "code",
   "execution_count": 1,
   "id": "025064a5",
   "metadata": {},
   "outputs": [
    {
     "name": "stdout",
     "output_type": "stream",
     "text": [
      "Chi-Square Statistic: 5.638227513227513\n",
      "Critical Value: 9.487729036781154\n",
      "P-Value: 0.22784371130697179\n",
      "Degrees of Freedom: 4\n",
      "Expected Frequencies: \n",
      "[[ 48.  72.]\n",
      " [ 72. 108.]\n",
      " [ 60.  90.]\n",
      " [ 32.  48.]\n",
      " [ 28.  42.]]\n",
      "Fail to reject the null hypothesis. There is no significant association between the type of device purchased and the customer satisfaction level.\n"
     ]
    }
   ],
   "source": [
    "import numpy as np\n",
    "import scipy.stats as stats\n",
    "\n",
    "# Data Provided\n",
    "observed = np.array([[50, 70],\n",
    "                     [80, 100],\n",
    "                     [60, 90],\n",
    "                     [30, 50],\n",
    "                     [20, 50]])\n",
    "\n",
    "# Calculating the Chi-Square statistic\n",
    "chi2, p, dof, expected = stats.chi2_contingency(observed)\n",
    "\n",
    "# Significance level\n",
    "alpha = 0.05\n",
    "\n",
    "# Degrees of freedom\n",
    "dof = (observed.shape[0] - 1) * (observed.shape[1] - 1)\n",
    "\n",
    "# Critical value from chi-square distribution\n",
    "critical_value = stats.chi2.ppf(1 - alpha, dof)\n",
    "\n",
    "# Print the results\n",
    "print(f\"Chi-Square Statistic: {chi2}\")\n",
    "print(f\"Critical Value: {critical_value}\")\n",
    "print(f\"P-Value: {p}\")\n",
    "print(f\"Degrees of Freedom: {dof}\")\n",
    "print(f\"Expected Frequencies: \\n{expected}\")\n",
    "\n",
    "# Make a decision\n",
    "if chi2 > critical_value:\n",
    "    print(\"Reject the null hypothesis. There is a significant association between the type of device purchased and the customer satisfaction level.\")\n",
    "else:\n",
    "    print(\"Fail to reject the null hypothesis. There is no significant association between the type of device purchased and the customer satisfaction level.\")\n"
   ]
  },
  {
   "cell_type": "code",
   "execution_count": null,
   "id": "facd0740",
   "metadata": {},
   "outputs": [],
   "source": []
  }
 ],
 "metadata": {
  "kernelspec": {
   "display_name": "Python 3 (ipykernel)",
   "language": "python",
   "name": "python3"
  },
  "language_info": {
   "codemirror_mode": {
    "name": "ipython",
    "version": 3
   },
   "file_extension": ".py",
   "mimetype": "text/x-python",
   "name": "python",
   "nbconvert_exporter": "python",
   "pygments_lexer": "ipython3",
   "version": "3.11.5"
  }
 },
 "nbformat": 4,
 "nbformat_minor": 5
}
