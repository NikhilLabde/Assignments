{
 "cells": [
  {
   "cell_type": "code",
   "execution_count": 1,
   "metadata": {},
   "outputs": [
    {
     "name": "stderr",
     "output_type": "stream",
     "text": [
      "2024-06-20 12:59:46.231 \n",
      "  \u001b[33m\u001b[1mWarning:\u001b[0m to view this Streamlit app on a browser, run it with the following\n",
      "  command:\n",
      "\n",
      "    streamlit run c:\\Users\\nikhi\\anaconda3\\Lib\\site-packages\\ipykernel_launcher.py [ARGUMENTS]\n",
      "2024-06-20 12:59:46.956 Session state does not function when running a script without `streamlit run`\n"
     ]
    }
   ],
   "source": [
    "# titanic_app.py\n",
    "import streamlit as st\n",
    "import joblib\n",
    "import pandas as pd\n",
    "\n",
    "# Function to load the model and scaler\n",
    "@st.cache_resource\n",
    "def load_model_and_scaler():\n",
    "    model = joblib.load('logistic_regression_model.pkl')\n",
    "    scaler = joblib.load('scaler.pkl')\n",
    "    return model, scaler\n",
    "\n",
    "# Preprocess inputs function\n",
    "def preprocess_inputs(sex, age, fare, embarked, pclass, sibsp, parch, scaler):\n",
    "    inputs = pd.DataFrame({\n",
    "        'Pclass': [pclass],\n",
    "        'Sex': [1 if sex == 'Male' else 0],\n",
    "        'Age': [age],\n",
    "        'SibSp': [sibsp],\n",
    "        'Parch': [parch],\n",
    "        'Fare': [fare],\n",
    "        'Embarked_Q': [1 if embarked == 'Q' else 0],\n",
    "        'Embarked_S': [1 if embarked == 'S' else 0]\n",
    "    })\n",
    "    inputs_scaled = scaler.transform(inputs)\n",
    "    return inputs_scaled\n",
    "\n",
    "# Load the model and scaler\n",
    "model, scaler = load_model_and_scaler()\n",
    "\n",
    "# Streamlit app\n",
    "st.title('Titanic Survival Prediction')\n",
    "st.write('This app predicts the survival probability of passengers on the Titanic.')\n",
    "\n",
    "# User inputs\n",
    "sex = st.selectbox('Sex', ['Male', 'Female'])\n",
    "age = st.slider('Age', 0, 100, 30)\n",
    "fare = st.slider('Fare', 0, 500, 50)\n",
    "embarked = st.selectbox('Embarked', ['C', 'Q', 'S'])\n",
    "pclass = st.selectbox('Pclass', [1, 2, 3])\n",
    "sibsp = st.slider('Siblings/Spouses Aboard', 0, 10, 0)\n",
    "parch = st.slider('Parents/Children Aboard', 0, 10, 0)\n",
    "\n",
    "# Encode and scale inputs\n",
    "inputs = preprocess_inputs(sex, age, fare, embarked, pclass, sibsp, parch, scaler)\n",
    "\n",
    "# Make prediction\n",
    "prediction = model.predict_proba(inputs)[0, 1]\n",
    "st.write(f'Survival Probability: {prediction:.2f}')\n"
   ]
  }
 ],
 "metadata": {
  "kernelspec": {
   "display_name": "base",
   "language": "python",
   "name": "python3"
  },
  "language_info": {
   "codemirror_mode": {
    "name": "ipython",
    "version": 3
   },
   "file_extension": ".py",
   "mimetype": "text/x-python",
   "name": "python",
   "nbconvert_exporter": "python",
   "pygments_lexer": "ipython3",
   "version": "3.11.5"
  }
 },
 "nbformat": 4,
 "nbformat_minor": 2
}
