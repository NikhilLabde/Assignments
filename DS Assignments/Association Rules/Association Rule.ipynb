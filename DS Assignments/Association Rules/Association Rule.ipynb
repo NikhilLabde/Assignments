{
 "cells": [
  {
   "cell_type": "code",
   "execution_count": 1,
   "id": "9ecedfef",
   "metadata": {},
   "outputs": [],
   "source": [
    "import pandas as pd"
   ]
  },
  {
   "cell_type": "code",
   "execution_count": 2,
   "id": "6e01125f",
   "metadata": {},
   "outputs": [],
   "source": [
    "# Load the dataset\n",
    "data = pd.read_excel(\"Online retail.xlsx\",header = None)"
   ]
  },
  {
   "cell_type": "code",
   "execution_count": 3,
   "id": "cf0d5b8b",
   "metadata": {},
   "outputs": [
    {
     "data": {
      "text/html": [
       "<div>\n",
       "<style scoped>\n",
       "    .dataframe tbody tr th:only-of-type {\n",
       "        vertical-align: middle;\n",
       "    }\n",
       "\n",
       "    .dataframe tbody tr th {\n",
       "        vertical-align: top;\n",
       "    }\n",
       "\n",
       "    .dataframe thead th {\n",
       "        text-align: right;\n",
       "    }\n",
       "</style>\n",
       "<table border=\"1\" class=\"dataframe\">\n",
       "  <thead>\n",
       "    <tr style=\"text-align: right;\">\n",
       "      <th></th>\n",
       "      <th>0</th>\n",
       "    </tr>\n",
       "  </thead>\n",
       "  <tbody>\n",
       "    <tr>\n",
       "      <th>0</th>\n",
       "      <td>shrimp,almonds,avocado,vegetables mix,green gr...</td>\n",
       "    </tr>\n",
       "    <tr>\n",
       "      <th>1</th>\n",
       "      <td>burgers,meatballs,eggs</td>\n",
       "    </tr>\n",
       "    <tr>\n",
       "      <th>2</th>\n",
       "      <td>chutney</td>\n",
       "    </tr>\n",
       "    <tr>\n",
       "      <th>3</th>\n",
       "      <td>turkey,avocado</td>\n",
       "    </tr>\n",
       "    <tr>\n",
       "      <th>4</th>\n",
       "      <td>mineral water,milk,energy bar,whole wheat rice...</td>\n",
       "    </tr>\n",
       "  </tbody>\n",
       "</table>\n",
       "</div>"
      ],
      "text/plain": [
       "                                                   0\n",
       "0  shrimp,almonds,avocado,vegetables mix,green gr...\n",
       "1                             burgers,meatballs,eggs\n",
       "2                                            chutney\n",
       "3                                     turkey,avocado\n",
       "4  mineral water,milk,energy bar,whole wheat rice..."
      ]
     },
     "execution_count": 3,
     "metadata": {},
     "output_type": "execute_result"
    }
   ],
   "source": [
    "# Display the first few rows of the dataframe\n",
    "data.head()"
   ]
  },
  {
   "cell_type": "code",
   "execution_count": 4,
   "id": "1e4863aa",
   "metadata": {},
   "outputs": [
    {
     "name": "stdout",
     "output_type": "stream",
     "text": [
      "    asparagus  almonds  antioxydant juice  asparagus  avocado  babies food  \\\n",
      "0           0        1                  1          0        1            0   \n",
      "1           0        0                  0          0        0            0   \n",
      "2           0        0                  0          0        0            0   \n",
      "3           0        0                  0          0        1            0   \n",
      "4           0        0                  0          0        0            0   \n",
      "\n",
      "   bacon  barbecue sauce  black tea  blueberries  ...  turkey  vegetables mix  \\\n",
      "0      0               0          0            0  ...       0               1   \n",
      "1      0               0          0            0  ...       0               0   \n",
      "2      0               0          0            0  ...       0               0   \n",
      "3      0               0          0            0  ...       1               0   \n",
      "4      0               0          0            0  ...       0               0   \n",
      "\n",
      "   water spray  white wine  whole weat flour  whole wheat pasta  \\\n",
      "0            0           0                 1                  0   \n",
      "1            0           0                 0                  0   \n",
      "2            0           0                 0                  0   \n",
      "3            0           0                 0                  0   \n",
      "4            0           0                 0                  0   \n",
      "\n",
      "   whole wheat rice  yams  yogurt cake  zucchini  \n",
      "0                 0     1            0         0  \n",
      "1                 0     0            0         0  \n",
      "2                 0     0            0         0  \n",
      "3                 0     0            0         0  \n",
      "4                 1     0            0         0  \n",
      "\n",
      "[5 rows x 120 columns]\n"
     ]
    }
   ],
   "source": [
    "# Create a list of transactions\n",
    "transactions = data[0].apply(lambda x: x.split(','))\n",
    "\n",
    "# Create a list of all unique items\n",
    "items = sorted(set(item for sublist in transactions for item in sublist))\n",
    "\n",
    "# Create a one-hot encoded dataframe\n",
    "encoded_data = pd.DataFrame([[int(item in transaction) for item in items] for transaction in transactions], columns=items)\n",
    "\n",
    "print(encoded_data.head())\n"
   ]
  },
  {
   "cell_type": "code",
   "execution_count": 5,
   "id": "015e45c3",
   "metadata": {},
   "outputs": [
    {
     "name": "stderr",
     "output_type": "stream",
     "text": [
      "C:\\Users\\nikhi\\anaconda3\\Lib\\site-packages\\mlxtend\\frequent_patterns\\fpcommon.py:109: DeprecationWarning: DataFrames with non-bool types result in worse computationalperformance and their support might be discontinued in the future.Please use a DataFrame with bool type\n",
      "  warnings.warn(\n"
     ]
    },
    {
     "name": "stdout",
     "output_type": "stream",
     "text": [
      "       antecedents      consequents  antecedent support  consequent support  \\\n",
      "0  (mineral water)        (avocado)            0.238368            0.033329   \n",
      "1        (avocado)  (mineral water)            0.033329            0.238368   \n",
      "2           (cake)        (burgers)            0.081056            0.087188   \n",
      "3        (burgers)           (cake)            0.087188            0.081056   \n",
      "4        (burgers)      (chocolate)            0.087188            0.163845   \n",
      "\n",
      "    support  confidence      lift  leverage  conviction  zhangs_metric  \n",
      "0  0.011598    0.048658  1.459926  0.003654    1.016113       0.413630  \n",
      "1  0.011598    0.348000  1.459926  0.003654    1.168147       0.325896  \n",
      "2  0.011465    0.141447  1.622319  0.004398    1.063198       0.417434  \n",
      "3  0.011465    0.131498  1.622319  0.004398    1.058080       0.420238  \n",
      "4  0.017064    0.195719  1.194537  0.002779    1.039630       0.178411  \n"
     ]
    }
   ],
   "source": [
    "from mlxtend.frequent_patterns import apriori, association_rules\n",
    "\n",
    "# Apply the Apriori algorithm\n",
    "frequent_itemsets = apriori(encoded_data, min_support=0.01, use_colnames=True)\n",
    "\n",
    "# Generate the association rules\n",
    "rules = association_rules(frequent_itemsets, metric=\"lift\", min_threshold=1)\n",
    "\n",
    "# Display the generated rules\n",
    "print(rules.head())\n"
   ]
  },
  {
   "cell_type": "code",
   "execution_count": 6,
   "id": "8e5edeb0",
   "metadata": {},
   "outputs": [
    {
     "name": "stdout",
     "output_type": "stream",
     "text": [
      "                    antecedents                 consequents  \\\n",
      "214             (herb & pepper)               (ground beef)   \n",
      "215               (ground beef)             (herb & pepper)   \n",
      "384  (mineral water, spaghetti)               (ground beef)   \n",
      "385               (ground beef)  (mineral water, spaghetti)   \n",
      "399                 (olive oil)  (mineral water, spaghetti)   \n",
      "394  (mineral water, spaghetti)                 (olive oil)   \n",
      "192                  (tomatoes)         (frozen vegetables)   \n",
      "193         (frozen vegetables)                  (tomatoes)   \n",
      "188                    (shrimp)         (frozen vegetables)   \n",
      "189         (frozen vegetables)                    (shrimp)   \n",
      "\n",
      "     antecedent support  consequent support   support  confidence      lift  \\\n",
      "214            0.049460            0.098254  0.015998    0.323450  3.291994   \n",
      "215            0.098254            0.049460  0.015998    0.162822  3.291994   \n",
      "384            0.059725            0.098254  0.017064    0.285714  2.907928   \n",
      "385            0.098254            0.059725  0.017064    0.173677  2.907928   \n",
      "399            0.065858            0.059725  0.010265    0.155870  2.609786   \n",
      "394            0.059725            0.065858  0.010265    0.171875  2.609786   \n",
      "192            0.068391            0.095321  0.016131    0.235867  2.474464   \n",
      "193            0.095321            0.068391  0.016131    0.169231  2.474464   \n",
      "188            0.071457            0.095321  0.016664    0.233209  2.446574   \n",
      "189            0.095321            0.071457  0.016664    0.174825  2.446574   \n",
      "\n",
      "     leverage  conviction  zhangs_metric  \n",
      "214  0.011138    1.332860       0.732460  \n",
      "215  0.011138    1.135410       0.772094  \n",
      "384  0.011196    1.262445       0.697788  \n",
      "385  0.011196    1.137902       0.727602  \n",
      "399  0.006332    1.113898       0.660314  \n",
      "394  0.006332    1.128021       0.656007  \n",
      "192  0.009612    1.183930       0.639616  \n",
      "193  0.009612    1.121381       0.658656  \n",
      "188  0.009853    1.179825       0.636767  \n",
      "189  0.009853    1.125268       0.653563  \n"
     ]
    }
   ],
   "source": [
    "# Sort rules by lift and display the top 10\n",
    "sorted_rules = rules.sort_values('lift', ascending=False).head(10)\n",
    "print(sorted_rules)\n"
   ]
  },
  {
   "cell_type": "code",
   "execution_count": null,
   "id": "12386815",
   "metadata": {},
   "outputs": [],
   "source": []
  }
 ],
 "metadata": {
  "kernelspec": {
   "display_name": "Python 3 (ipykernel)",
   "language": "python",
   "name": "python3"
  },
  "language_info": {
   "codemirror_mode": {
    "name": "ipython",
    "version": 3
   },
   "file_extension": ".py",
   "mimetype": "text/x-python",
   "name": "python",
   "nbconvert_exporter": "python",
   "pygments_lexer": "ipython3",
   "version": "3.11.5"
  }
 },
 "nbformat": 4,
 "nbformat_minor": 5
}
